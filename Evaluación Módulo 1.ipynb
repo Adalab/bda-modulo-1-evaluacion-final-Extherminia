{
 "cells": [
  {
   "cell_type": "markdown",
   "metadata": {},
   "source": [
    "Evaluación Final Módulo 1 : Esther Al-Athamna"
   ]
  },
  {
   "cell_type": "markdown",
   "metadata": {},
   "source": [
    "Instrucciones:\n",
    "Antes de empezar, hay que crear un nuevo repositorio desde GitHub Classroom usando este enlace. Una vez creado, hay que clonar en nuestro ordenador y en la carpeta creada empezaremos a trabajar en el ejercicio.\n",
    "Esta evaluación consta de una serie de preguntas que evalúan tu comprensión y habilidades en relación con funciones, bucles y otros conceptos estudiados en el módulo 1.\n",
    "Puedes usar recursos externos, incluyendo internet y materiales de referencia o tus propias notas. Completa los ejercicios en un jupyter notebook.\n",
    "Ejercicio\n",
    "Vamos a tener tres estructuras principales con las que vamos a trabajar:\n",
    " \n",
    "1. `inventario` (lista de diccionarios): Una estructura para almacenar los\n",
    "productos en el inventario. Cada producto debe ser representado como un\n",
    "diccionario con las siguientes claves: `'nombre'`, `'precio'`, y\n",
    "`'cantidad'`. Al principio deberá ser una lista vacía. Ejemplo de como\n",
    "debería ser:\n",
    "      ```python\n",
    "      [{'nombre': 'Camisa', 'precio': 20, 'cantidad': 40},\n",
    "      {'nombre': 'Pantalón', 'precio': 30, 'cantidad': 30}]\n",
    "      ```\n",
    "  2. `clientes` (diccionario): Una estructura para llevar un registro de los\n",
    "clientes de la tienda. Cada cliente debe ser representado como un\n",
    "diccionario con las siguientes claves: `'nombre'` y `'email'`. Al inicio\n",
    "deberá ser un diccionario vacío. Además, cada cliente debe tener un\n",
    "historial de compras. Deberá parecerse a:\n",
    "      ```python\n",
    "      {'Cliente1': {'email': 'cliente1@email.com', 'compras': []},\n",
    "      'Cliente2': {'email': 'cliente2@email.com', 'compras': []}}\n",
    "      ```\n",
    "  3. `ventas_totales` (float): Una variable para llevar un registro de las\n",
    "ventas totales de la tienda. Inicializalo con valor 0.\n",
    "\n",
    "\n",
    "A lo largo de esta evaluación tendrás que crear una serie de funciones que cumplan con los siguientes requisitos:"
   ]
  },
  {
   "cell_type": "markdown",
   "metadata": {},
   "source": [
    "-----------------------------------------------------------------------"
   ]
  },
  {
   "cell_type": "markdown",
   "metadata": {},
   "source": [
    "1. `agregar_producto(nombre, precio, cantidad)`: Esta función agrega un\n",
    "producto al inventario o actualiza su cantidad si ya existe. Debe recibir el\n",
    "nombre, precio y cantidad del producto como parámetros.\n",
    "     - Itera a través del inventario y compara los nombres de los productos\n",
    "con el nombre proporcionado.\n",
    "     - Si el producto ya existe, actualiza la cantidad.\n",
    "     - Si no existe, agrega un nuevo producto al inventario."
   ]
  },
  {
   "cell_type": "code",
   "execution_count": 2,
   "metadata": {},
   "outputs": [],
   "source": [
    "inventario = []\n",
    "clientes = {}\n",
    "ventas_totales = 0.0"
   ]
  },
  {
   "cell_type": "code",
   "execution_count": 4,
   "metadata": {},
   "outputs": [],
   "source": [
    "# Estructura inicial del inventario\n",
    "inventario = []\n",
    "\n",
    "# Función para agregar o actualizar productos en el inventario\n",
    "\n",
    "def agregar_producto(nombre, precio, cantidad):\n",
    "    # Iterar en el inventario para ver si el producto ya existe\n",
    "    for producto in inventario:\n",
    "        if producto['nombre'] == nombre:\n",
    "            # Si el producto ya existe, actualizamos su cantidad\n",
    "            producto['cantidad'] += cantidad\n",
    "            print(f\"La cantidad del producto {nombre} ha sido actualizada a {producto['cantidad']}.\")\n",
    "            return  # Salimos de la función para no agregar el producto de nuevo\n",
    "    \n",
    "    # Si el producto no existe, lo agregamos al inventario\n",
    "    nuevo_producto = {'nombre': nombre, 'precio': precio, 'cantidad': cantidad}\n",
    "    inventario.append(nuevo_producto)\n",
    "    print(f\"El producto {nombre} ha sido agregado al inventario con precio {precio} y cantidad {cantidad}.\")\n",
    "\n"
   ]
  },
  {
   "cell_type": "code",
   "execution_count": 5,
   "metadata": {},
   "outputs": [
    {
     "name": "stdout",
     "output_type": "stream",
     "text": [
      "El producto Camisa ha sido agregado al inventario con precio 20 y cantidad 40.\n",
      "El producto Pantalón ha sido agregado al inventario con precio 30 y cantidad 30.\n",
      "La cantidad del producto Camisa ha sido actualizada a 50.\n"
     ]
    }
   ],
   "source": [
    "agregar_producto('Camisa', 20, 40)\n",
    "agregar_producto('Pantalón', 30, 30)\n",
    "agregar_producto('Camisa', 20, 10)"
   ]
  },
  {
   "cell_type": "markdown",
   "metadata": {},
   "source": [
    "2. `ver_inventario()`: Muestra el inventario de productos con sus detalles.\n",
    "     - Utiliza un bucle `for` para recorrer el inventario.\n",
    "     - Imprime los detalles (nombre, precio, cantidad) de cada producto.\n",
    "     - Debería verse:\n",
    "         ```python\n",
    "         Nombre: Camisa, Precio: $20, Cantidad: 50\n",
    "         Nombre: Pantalón, Precio: $30, Cantidad: 30\n",
    "         Nombre: Zapatos, Precio: $50, Cantidad: 40\n",
    "         Nombre: Camisa, Precio: $20, Cantidad: 50\n",
    "         ```"
   ]
  },
  {
   "cell_type": "code",
   "execution_count": 6,
   "metadata": {},
   "outputs": [
    {
     "name": "stdout",
     "output_type": "stream",
     "text": [
      "La cantidad del producto Camisa ha sido actualizada a 90.\n",
      "La cantidad del producto Pantalón ha sido actualizada a 60.\n",
      "El producto Zapatos ha sido agregado al inventario con precio 50 y cantidad 10.\n",
      "Nombre: Camisa, Precio: $20, Cantidad: 90\n",
      "Nombre: Pantalón, Precio: $30, Cantidad: 60\n",
      "Nombre: Zapatos, Precio: $50, Cantidad: 10\n"
     ]
    }
   ],
   "source": [
    "\n",
    "# Función para mostrar el inventario\n",
    "\n",
    "def ver_inventario():\n",
    "    # Iteramos sobre el inventario para mostrar los productos\n",
    "    for producto in inventario:\n",
    "        nombre = producto['nombre']\n",
    "        precio = producto['precio']\n",
    "        cantidad = producto['cantidad']\n",
    "        \n",
    "        # Mostramos los detalles de cada producto\n",
    "        print(f\"Nombre: {nombre}, Precio: ${precio}, Cantidad: {cantidad}\")\n",
    "\n",
    "# Probar las funciones\n",
    "agregar_producto('Camisa', 20, 40)\n",
    "agregar_producto('Pantalón', 30, 30)\n",
    "agregar_producto('Zapatos', 50, 10)\n",
    "\n",
    "# Mostrar el inventario\n",
    "ver_inventario()\n"
   ]
  },
  {
   "cell_type": "markdown",
   "metadata": {},
   "source": [
    " 3. `buscar_producto(nombre)`: Busca un producto en el inventario por nombre\n",
    "y muestra sus detalles si se encuentra. Debe recibir el nombre del producto\n",
    "como parámetro.\n",
    "     - Utiliza un bucle `for` para recorrer el inventario.\n",
    "     - Compara los nombres de los productos con el nombre proporcionado.\n",
    "     - Si se encuentra el producto, imprime sus detalles.\n",
    "     - Debe mostrar:\n",
    "         ```python\n",
    "         Nombre: Camisa, Precio: $20, Cantidad: 40"
   ]
  },
  {
   "cell_type": "code",
   "execution_count": 7,
   "metadata": {},
   "outputs": [],
   "source": [
    "def buscar_producto(nombre):\n",
    "    # Recorremos cada producto en el inventario\n",
    "    for producto in inventario:\n",
    "        # Comparamos el nombre del producto\n",
    "        if producto['nombre'].lower() == nombre.lower():  # Comparación insensible a mayúsculas/minúsculas\n",
    "            # Imprimimos los detalles si se encuentra el producto\n",
    "            print(f\"Nombre: {producto['nombre']}, Precio: ${producto['precio']}, Cantidad: {producto['cantidad']}\")\n",
    "            return  # Terminamos la función después de encontrar el producto\n",
    "    # Si el producto no está en el inventario, mostramos un mensaje\n",
    "    print(f\"El producto '{nombre}' no se encuentra en el inventario.\")\n"
   ]
  },
  {
   "cell_type": "code",
   "execution_count": 9,
   "metadata": {},
   "outputs": [
    {
     "name": "stdout",
     "output_type": "stream",
     "text": [
      "Nombre: Camisa, Precio: $20, Cantidad: 40\n",
      "El producto 'Zapatos' no se encuentra en el inventario.\n"
     ]
    }
   ],
   "source": [
    "inventario = [{'nombre': 'Camisa', 'precio': 20, 'cantidad': 40},\n",
    "             {'nombre': 'Pantalón', 'precio': 30, 'cantidad': 30}]\n",
    "\n",
    "buscar_producto(\"Camisa\")\n",
    "buscar_producto(\"Zapatos\")  # Este no está en el inventario\n"
   ]
  },
  {
   "cell_type": "markdown",
   "metadata": {},
   "source": [
    "4. `actualizar_stock(nombre, cantidad)`: Actualiza el stock de un producto\n",
    "en el inventario. Debe recibir el nombre del producto y la cantidad a\n",
    "agregar o quitar como parámetros.\n",
    "    - Utiliza un bucle `for` para recorrer el inventario.\n",
    "    - Busca el producto por nombre.\n",
    "    - Actualiza la cantidad según la entrada del usuario.\n",
    "    - Si el producto no esta en el inventario muestra un mensaje indicándolo\n"
   ]
  },
  {
   "cell_type": "code",
   "execution_count": 10,
   "metadata": {},
   "outputs": [],
   "source": [
    "def actualizar_stock(nombre, cantidad):\n",
    "    for producto in inventario:\n",
    "        if producto['nombre'].lower() == nombre.lower():\n",
    "            # Actualizamos la cantidad\n",
    "            producto['cantidad'] += cantidad\n",
    "            print(f\"El stock del producto '{nombre}' ha sido actualizado. Nueva cantidad: {producto['cantidad']}\")\n",
    "            return  # Terminamos la función aquí si encontramos el producto\n",
    "    \n",
    "    # Si llegamos hasta aquí, significa que no encontramos el producto\n",
    "    print(f\"El producto '{nombre}' no se encuentra en el inventario.\")"
   ]
  },
  {
   "cell_type": "code",
   "execution_count": 11,
   "metadata": {},
   "outputs": [
    {
     "name": "stdout",
     "output_type": "stream",
     "text": [
      "El stock del producto 'Camisa' ha sido actualizado. Nueva cantidad: 50\n",
      "El stock del producto 'Pantalón' ha sido actualizado. Nueva cantidad: 25\n",
      "El producto 'Zapatos' no se encuentra en el inventario.\n"
     ]
    }
   ],
   "source": [
    "inventario = [{'nombre': 'Camisa', 'precio': 20, 'cantidad': 40},\n",
    "             {'nombre': 'Pantalón', 'precio': 30, 'cantidad': 30}]\n",
    "\n",
    "# Probamos la función\n",
    "actualizar_stock(\"Camisa\", 10)  # Aumentar el stock de Camisas en 10\n",
    "actualizar_stock(\"Pantalón\", -5)  # Reducir el stock de Pantalones en 5\n",
    "actualizar_stock(\"Zapatos\", 20)  # Producto no existente"
   ]
  },
  {
   "cell_type": "markdown",
   "metadata": {},
   "source": [
    "5. `eliminar_producto(nombre)`: Elimina un producto del inventario por\n",
    "nombre. Debe recibir el nombre del producto como parámetro.\n",
    "     - Utiliza un bucle `for` para recorrer el inventario.\n",
    "     - Busca el producto por nombre.\n",
    "     - Elimina el producto del inventario si existe.\n",
    "     - Si el producto no esta en el inventario muestra un mensaje\n",
    "indicándolo.\n"
   ]
  },
  {
   "cell_type": "code",
   "execution_count": 13,
   "metadata": {},
   "outputs": [],
   "source": [
    "def eliminar_producto(nombre):\n",
    "    for producto in inventario:\n",
    "        if producto['nombre'].lower() == nombre.lower():\n",
    "            # Eliminamos el producto\n",
    "            inventario.remove(producto)\n",
    "            print(f\"El producto '{nombre}' ha sido eliminado del inventario.\")\n",
    "            return  # Terminamos la función después de eliminar el producto\n",
    "        \n",
    "        # Si llegamos hasta aquí, significa que no encontramos el producto\n",
    "    print(f\"El producto '{nombre}' no se encuentra en el inventario.\")"
   ]
  },
  {
   "cell_type": "code",
   "execution_count": 14,
   "metadata": {},
   "outputs": [],
   "source": [
    "inventario = [{'nombre': 'Camisa', 'precio': 20, 'cantidad': 40},\n",
    "             {'nombre': 'Pantalón', 'precio': 30, 'cantidad': 30}]"
   ]
  },
  {
   "cell_type": "code",
   "execution_count": 15,
   "metadata": {},
   "outputs": [
    {
     "name": "stdout",
     "output_type": "stream",
     "text": [
      "El producto 'Camisa' ha sido eliminado del inventario.\n",
      "El producto 'Zapatos' no se encuentra en el inventario.\n",
      "El producto 'Pantalón' ha sido eliminado del inventario.\n"
     ]
    }
   ],
   "source": [
    "eliminar_producto(\"Camisa\")  # Debería eliminar la Camisa\n",
    "eliminar_producto(\"Zapatos\")  # Producto no existente\n",
    "eliminar_producto(\"Pantalón\")  # Debería eliminar el Pantalón"
   ]
  },
  {
   "cell_type": "markdown",
   "metadata": {},
   "source": [
    "6. `calcular_valor_inventario()`: Calcula y muestra el valor total del\n",
    "inventario.\n",
    "     - Utiliza un bucle for para calcular el valor total del inventario.\n",
    "     - Itera a través del inventario y suma el valor de cada producto\n",
    "(precio x cantidad). Es decir, calcula el valor total del inventario.\n",
    "Ejemplo:\n",
    "         ```python\n",
    "         # si tenemos 5 camisas que valen 5 euros\n",
    "         # y 10 calcetines que valen 1 euro\n",
    "         # este método te tiene que devolver: 35 euros\n",
    "         valor_camisas = 5 * 5\n",
    "         valor_calcetines = 10 * 1\n",
    "         valor_camisas + valor_calcetines = 35\n",
    "         ```\n"
   ]
  },
  {
   "cell_type": "code",
   "execution_count": 16,
   "metadata": {},
   "outputs": [],
   "source": [
    "def calcular_valor_inventario():\n",
    "    valor_total = 0  # Inicializamos el valor total\n",
    "\n",
    "    for producto in inventario:\n",
    "        # Calculamos el valor del producto (precio x cantidad)\n",
    "        valor_producto = producto['precio'] * producto['cantidad']\n",
    "        \n",
    "        # Sumamos el valor del producto al valor total\n",
    "        valor_total += valor_producto\n",
    "    \n",
    "    # Mostramos el valor total del inventario\n",
    "    print(f\"El valor total del inventario es: {valor_total} euros\")"
   ]
  },
  {
   "cell_type": "code",
   "execution_count": 17,
   "metadata": {},
   "outputs": [],
   "source": [
    "inventario = [\n",
    "    {'nombre': 'Camisa', 'precio': 20, 'cantidad': 5},   # Valor = 20 * 5 = 100\n",
    "    {'nombre': 'Pantalón', 'precio': 30, 'cantidad': 3}, # Valor = 30 * 3 = 90\n",
    "    {'nombre': 'Zapatos', 'precio': 50, 'cantidad': 2}   # Valor = 50 * 2 = 100\n",
    "]"
   ]
  },
  {
   "cell_type": "code",
   "execution_count": 18,
   "metadata": {},
   "outputs": [
    {
     "name": "stdout",
     "output_type": "stream",
     "text": [
      "El valor total del inventario es: 290 euros\n"
     ]
    }
   ],
   "source": [
    "calcular_valor_inventario()\n"
   ]
  },
  {
   "cell_type": "markdown",
   "metadata": {},
   "source": [
    "7. `realizar_compra()`: Permite a un cliente realizar una compra\n",
    "seleccionando productos del inventario. Debe interactuar con el cliente para\n",
    "seleccionar productos y calcular el costo total de la compra.\n",
    "     - Utiliza un bucle `while` para permitir al cliente realizar múltiples\n",
    "compras.\n",
    "     - Muestra el inventario y solicita al cliente ingresar el nombre del\n",
    "producto que desea comprar.\n",
    "     - Registra los productos seleccionados en un carrito y actualiza el\n",
    "inventario.\n",
    "     - Calcula el costo total de la compra."
   ]
  },
  {
   "cell_type": "markdown",
   "metadata": {},
   "source": [
    "# variables:\n",
    "carrito: lista productos elegidos por cliente\n",
    "total_compra: costo total de la total_compra\n",
    "continuar: nos permitirá hacer varias compras"
   ]
  },
  {
   "cell_type": "code",
   "execution_count": 19,
   "metadata": {},
   "outputs": [
    {
     "ename": "SyntaxError",
     "evalue": "invalid syntax (3722108975.py, line 2)",
     "output_type": "error",
     "traceback": [
      "\u001b[0;36m  Cell \u001b[0;32mIn[19], line 2\u001b[0;36m\u001b[0m\n\u001b[0;31m    carrito: lista productos elegidos por cliente\u001b[0m\n\u001b[0m                   ^\u001b[0m\n\u001b[0;31mSyntaxError\u001b[0m\u001b[0;31m:\u001b[0m invalid syntax\n"
     ]
    }
   ],
   "source": [
    "\n",
    "def realizar_compra():\n",
    "    carrito = []\n",
    "    total_compra = 0\n",
    "    continuar = True"
   ]
  },
  {
   "cell_type": "code",
   "execution_count": 20,
   "metadata": {},
   "outputs": [],
   "source": [
    "def realizar_compra():\n",
    "    carrito = []\n",
    "    total_compra = 0\n",
    "    continuar = True\n",
    "    \n",
    "    while continuar:\n",
    "        print(\"\\nInventario actual:\")\n",
    "        ver_inventario()\n",
    "        \n",
    "        # Solicitar al cliente el producto que desea comprar\n",
    "        producto_seleccionado = input(\"Ingrese el nombre del producto que desea comprar (o 'salir' para finalizar): \").lower()\n",
    "        \n",
    "        # Si el cliente escribe \"salir\", terminamos el bucle\n",
    "        if producto_seleccionado == 'salir':\n",
    "            continuar = False\n",
    "            break\n",
    "        \n",
    "        # Verificar si el producto está en el inventario\n",
    "        for producto in inventario:\n",
    "            if producto['nombre'].lower() == producto_seleccionado:\n",
    "                # Solicitar la cantidad que el cliente desea comprar\n",
    "                cantidad_comprar = int(input(f\"¿Cuántos '{producto['nombre']}' deseas comprar? (Cantidad disponible: {producto['cantidad']}): \"))\n",
    "                \n",
    "                # Verificamos si hay suficiente cantidad en el inventario\n",
    "                if cantidad_comprar <= producto['cantidad']:\n",
    "                    # Actualizamos el inventario\n",
    "                    producto['cantidad'] -= cantidad_comprar\n",
    "                    \n",
    "                    # Agregamos el producto al carrito\n",
    "                    carrito.append({'nombre': producto['nombre'], 'precio': producto['precio'], 'cantidad': cantidad_comprar})\n",
    "                    \n",
    "                    # Calculamos el costo total del producto\n",
    "                    total_producto = producto['precio'] * cantidad_comprar\n",
    "                    total_compra += total_producto\n",
    "                    \n",
    "                    print(f\"Has agregado {cantidad_comprar} unidades de '{producto['nombre']}' al carrito. Costo: {total_producto} euros.\")\n",
    "                else:\n",
    "                    print(f\"No hay suficiente stock para '{producto_seleccionado}'. Solo hay {producto['cantidad']} unidades.\")\n",
    "                break\n",
    "        else:\n",
    "            print(f\"El producto '{producto_seleccionado}' no se encuentra en el inventario.\")\n",
    "    \n",
    "    # Mostrar el resumen de la compra\n",
    "    print(\"\\n--- Resumen de tu compra ---\")\n",
    "    for item in carrito:\n",
    "        print(f\"Producto: {item['nombre']}, Precio: {item['precio']}, Cantidad: {item['cantidad']}, Subtotal: {item['precio'] * item['cantidad']} euros\")\n",
    "    print(f\"Total de la compra: {total_compra} euros\")\n"
   ]
  },
  {
   "cell_type": "code",
   "execution_count": 23,
   "metadata": {},
   "outputs": [
    {
     "name": "stdout",
     "output_type": "stream",
     "text": [
      "\n",
      "Inventario actual:\n",
      "Nombre: Camisa, Precio: $20, Cantidad: 10\n",
      "Nombre: Pantalón, Precio: $30, Cantidad: 5\n",
      "Nombre: Zapatos, Precio: $50, Cantidad: 3\n",
      "El producto '' no se encuentra en el inventario.\n",
      "\n",
      "Inventario actual:\n",
      "Nombre: Camisa, Precio: $20, Cantidad: 10\n",
      "Nombre: Pantalón, Precio: $30, Cantidad: 5\n",
      "Nombre: Zapatos, Precio: $50, Cantidad: 3\n"
     ]
    },
    {
     "ename": "KeyboardInterrupt",
     "evalue": "Interrupted by user",
     "output_type": "error",
     "traceback": [
      "\u001b[0;31m---------------------------------------------------------------------------\u001b[0m",
      "\u001b[0;31mKeyboardInterrupt\u001b[0m                         Traceback (most recent call last)",
      "Cell \u001b[0;32mIn[23], line 9\u001b[0m\n\u001b[1;32m      2\u001b[0m inventario \u001b[38;5;241m=\u001b[39m [\n\u001b[1;32m      3\u001b[0m     {\u001b[38;5;124m'\u001b[39m\u001b[38;5;124mnombre\u001b[39m\u001b[38;5;124m'\u001b[39m: \u001b[38;5;124m'\u001b[39m\u001b[38;5;124mCamisa\u001b[39m\u001b[38;5;124m'\u001b[39m, \u001b[38;5;124m'\u001b[39m\u001b[38;5;124mprecio\u001b[39m\u001b[38;5;124m'\u001b[39m: \u001b[38;5;241m20\u001b[39m, \u001b[38;5;124m'\u001b[39m\u001b[38;5;124mcantidad\u001b[39m\u001b[38;5;124m'\u001b[39m: \u001b[38;5;241m10\u001b[39m},\n\u001b[1;32m      4\u001b[0m     {\u001b[38;5;124m'\u001b[39m\u001b[38;5;124mnombre\u001b[39m\u001b[38;5;124m'\u001b[39m: \u001b[38;5;124m'\u001b[39m\u001b[38;5;124mPantalón\u001b[39m\u001b[38;5;124m'\u001b[39m, \u001b[38;5;124m'\u001b[39m\u001b[38;5;124mprecio\u001b[39m\u001b[38;5;124m'\u001b[39m: \u001b[38;5;241m30\u001b[39m, \u001b[38;5;124m'\u001b[39m\u001b[38;5;124mcantidad\u001b[39m\u001b[38;5;124m'\u001b[39m: \u001b[38;5;241m5\u001b[39m},\n\u001b[1;32m      5\u001b[0m     {\u001b[38;5;124m'\u001b[39m\u001b[38;5;124mnombre\u001b[39m\u001b[38;5;124m'\u001b[39m: \u001b[38;5;124m'\u001b[39m\u001b[38;5;124mZapatos\u001b[39m\u001b[38;5;124m'\u001b[39m, \u001b[38;5;124m'\u001b[39m\u001b[38;5;124mprecio\u001b[39m\u001b[38;5;124m'\u001b[39m: \u001b[38;5;241m50\u001b[39m, \u001b[38;5;124m'\u001b[39m\u001b[38;5;124mcantidad\u001b[39m\u001b[38;5;124m'\u001b[39m: \u001b[38;5;241m3\u001b[39m}\n\u001b[1;32m      6\u001b[0m ]\n\u001b[1;32m      8\u001b[0m \u001b[38;5;66;03m# Llamar a la función para realizar una compra\u001b[39;00m\n\u001b[0;32m----> 9\u001b[0m realizar_compra()\n",
      "Cell \u001b[0;32mIn[20], line 11\u001b[0m, in \u001b[0;36mrealizar_compra\u001b[0;34m()\u001b[0m\n\u001b[1;32m      8\u001b[0m ver_inventario()\n\u001b[1;32m     10\u001b[0m \u001b[38;5;66;03m# Solicitar al cliente el producto que desea comprar\u001b[39;00m\n\u001b[0;32m---> 11\u001b[0m producto_seleccionado \u001b[38;5;241m=\u001b[39m \u001b[38;5;28minput\u001b[39m(\u001b[38;5;124m\"\u001b[39m\u001b[38;5;124mIngrese el nombre del producto que desea comprar (o \u001b[39m\u001b[38;5;124m'\u001b[39m\u001b[38;5;124msalir\u001b[39m\u001b[38;5;124m'\u001b[39m\u001b[38;5;124m para finalizar): \u001b[39m\u001b[38;5;124m\"\u001b[39m)\u001b[38;5;241m.\u001b[39mlower()\n\u001b[1;32m     13\u001b[0m \u001b[38;5;66;03m# Si el cliente escribe \"salir\", terminamos el bucle\u001b[39;00m\n\u001b[1;32m     14\u001b[0m \u001b[38;5;28;01mif\u001b[39;00m producto_seleccionado \u001b[38;5;241m==\u001b[39m \u001b[38;5;124m'\u001b[39m\u001b[38;5;124msalir\u001b[39m\u001b[38;5;124m'\u001b[39m:\n",
      "File \u001b[0;32m/opt/anaconda3/lib/python3.12/site-packages/ipykernel/kernelbase.py:1262\u001b[0m, in \u001b[0;36mKernel.raw_input\u001b[0;34m(self, prompt)\u001b[0m\n\u001b[1;32m   1260\u001b[0m     msg \u001b[38;5;241m=\u001b[39m \u001b[38;5;124m\"\u001b[39m\u001b[38;5;124mraw_input was called, but this frontend does not support input requests.\u001b[39m\u001b[38;5;124m\"\u001b[39m\n\u001b[1;32m   1261\u001b[0m     \u001b[38;5;28;01mraise\u001b[39;00m StdinNotImplementedError(msg)\n\u001b[0;32m-> 1262\u001b[0m \u001b[38;5;28;01mreturn\u001b[39;00m \u001b[38;5;28mself\u001b[39m\u001b[38;5;241m.\u001b[39m_input_request(\n\u001b[1;32m   1263\u001b[0m     \u001b[38;5;28mstr\u001b[39m(prompt),\n\u001b[1;32m   1264\u001b[0m     \u001b[38;5;28mself\u001b[39m\u001b[38;5;241m.\u001b[39m_parent_ident[\u001b[38;5;124m\"\u001b[39m\u001b[38;5;124mshell\u001b[39m\u001b[38;5;124m\"\u001b[39m],\n\u001b[1;32m   1265\u001b[0m     \u001b[38;5;28mself\u001b[39m\u001b[38;5;241m.\u001b[39mget_parent(\u001b[38;5;124m\"\u001b[39m\u001b[38;5;124mshell\u001b[39m\u001b[38;5;124m\"\u001b[39m),\n\u001b[1;32m   1266\u001b[0m     password\u001b[38;5;241m=\u001b[39m\u001b[38;5;28;01mFalse\u001b[39;00m,\n\u001b[1;32m   1267\u001b[0m )\n",
      "File \u001b[0;32m/opt/anaconda3/lib/python3.12/site-packages/ipykernel/kernelbase.py:1305\u001b[0m, in \u001b[0;36mKernel._input_request\u001b[0;34m(self, prompt, ident, parent, password)\u001b[0m\n\u001b[1;32m   1302\u001b[0m \u001b[38;5;28;01mexcept\u001b[39;00m \u001b[38;5;167;01mKeyboardInterrupt\u001b[39;00m:\n\u001b[1;32m   1303\u001b[0m     \u001b[38;5;66;03m# re-raise KeyboardInterrupt, to truncate traceback\u001b[39;00m\n\u001b[1;32m   1304\u001b[0m     msg \u001b[38;5;241m=\u001b[39m \u001b[38;5;124m\"\u001b[39m\u001b[38;5;124mInterrupted by user\u001b[39m\u001b[38;5;124m\"\u001b[39m\n\u001b[0;32m-> 1305\u001b[0m     \u001b[38;5;28;01mraise\u001b[39;00m \u001b[38;5;167;01mKeyboardInterrupt\u001b[39;00m(msg) \u001b[38;5;28;01mfrom\u001b[39;00m \u001b[38;5;28;01mNone\u001b[39;00m\n\u001b[1;32m   1306\u001b[0m \u001b[38;5;28;01mexcept\u001b[39;00m \u001b[38;5;167;01mException\u001b[39;00m:\n\u001b[1;32m   1307\u001b[0m     \u001b[38;5;28mself\u001b[39m\u001b[38;5;241m.\u001b[39mlog\u001b[38;5;241m.\u001b[39mwarning(\u001b[38;5;124m\"\u001b[39m\u001b[38;5;124mInvalid Message:\u001b[39m\u001b[38;5;124m\"\u001b[39m, exc_info\u001b[38;5;241m=\u001b[39m\u001b[38;5;28;01mTrue\u001b[39;00m)\n",
      "\u001b[0;31mKeyboardInterrupt\u001b[0m: Interrupted by user"
     ]
    }
   ],
   "source": [
    "# Inicializar inventario\n",
    "inventario = [\n",
    "    {'nombre': 'Camisa', 'precio': 20, 'cantidad': 10},\n",
    "    {'nombre': 'Pantalón', 'precio': 30, 'cantidad': 5},\n",
    "    {'nombre': 'Zapatos', 'precio': 50, 'cantidad': 3}\n",
    "]\n",
    "\n",
    "# Llamar a la función para realizar una compra\n",
    "realizar_compra()"
   ]
  }
 ],
 "metadata": {
  "kernelspec": {
   "display_name": "base",
   "language": "python",
   "name": "python3"
  },
  "language_info": {
   "codemirror_mode": {
    "name": "ipython",
    "version": 3
   },
   "file_extension": ".py",
   "mimetype": "text/x-python",
   "name": "python",
   "nbconvert_exporter": "python",
   "pygments_lexer": "ipython3",
   "version": "3.12.4"
  }
 },
 "nbformat": 4,
 "nbformat_minor": 2
}
